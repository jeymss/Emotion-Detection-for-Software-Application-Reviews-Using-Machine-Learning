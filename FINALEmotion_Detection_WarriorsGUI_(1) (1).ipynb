{
  "cells": [
    {
      "cell_type": "code",
      "execution_count": 1,
      "metadata": {
        "id": "KIdOl9KNxFvl"
      },
      "outputs": [],
      "source": [
        "#Import\n",
        "from tkinter import *\n",
        "from tkinter import ttk\n",
        "import neattext.functions as nfx\n",
        "import pandas as pd\n",
        "import numpy as np"
      ]
    },
    {
      "cell_type": "code",
      "execution_count": null,
      "metadata": {
        "id": "tAk3aVNv1EkD"
      },
      "outputs": [],
      "source": [
        "#from google.colab import drive\n",
        "#drive.mount('/content/drive')"
      ]
    },
    {
      "cell_type": "code",
      "execution_count": 2,
      "metadata": {
        "id": "utIkY--i1FfP"
      },
      "outputs": [
        {
          "data": {
            "text/plain": [
              "<bound method NDFrame.head of                 Application  \\\n",
              "Name                          \n",
              "Sheena More        Facebook   \n",
              "aloneme             Twitter   \n",
              "Levi Jack          Facebook   \n",
              "Jackelynn Bonds    Facebook   \n",
              "Anonymous            Reddit   \n",
              "...                     ...   \n",
              "Paul                Discord   \n",
              "DJ D00MSHYER        Discord   \n",
              "Melein Brueck       Discord   \n",
              "Alyx Aizawa         Discord   \n",
              "Francine Hanson   Duolinggo   \n",
              "\n",
              "                                                           Comment   Emotion  \n",
              "Name                                                                          \n",
              "Sheena More      im feeling very peaceful about our app again n...     Happy  \n",
              "aloneme                                            The app is gone       Sad  \n",
              "Levi Jack        So sleepy again and it's not even that late. I...       Sad  \n",
              "Jackelynn Bonds  mmm much better day... so far! it's still quit...     Happy  \n",
              "Anonymous        I want to buy this great album but unfortunate...       Sad  \n",
              "...                                                            ...       ...  \n",
              "Paul             Fix the video freeze issue! Your Android app i...     Angry  \n",
              "DJ D00MSHYER     The app was literally perfect before. Now its ...     Angry  \n",
              "Melein Brueck     I'm having issues every time I try to upload ...  Confused  \n",
              "Alyx Aizawa      as of late discord has been absolutely horrend...     Angry  \n",
              "Francine Hanson  I'm not a fan of the restructuring. I don't li...       Sad  \n",
              "\n",
              "[250 rows x 3 columns]>"
            ]
          },
          "execution_count": 2,
          "metadata": {},
          "output_type": "execute_result"
        }
      ],
      "source": [
        "#Loading datasets COLLAB\n",
        "df = pd.read_csv(\"D:/Desktop/Python/WARRIORSdataset.csv\", index_col=0)\n",
        "df.head"
      ]
    },
    {
      "cell_type": "code",
      "execution_count": 3,
      "metadata": {
        "colab": {
          "base_uri": "https://localhost:8080/"
        },
        "id": "A6JybSw5xKAF",
        "outputId": "0f2b6f9c-960b-4da8-85f3-18f85b3d617c"
      },
      "outputs": [
        {
          "data": {
            "text/plain": [
              "<bound method NDFrame.head of                 Application  \\\n",
              "Name                          \n",
              "Sheena More        Facebook   \n",
              "aloneme             Twitter   \n",
              "Levi Jack          Facebook   \n",
              "Jackelynn Bonds    Facebook   \n",
              "Anonymous            Reddit   \n",
              "...                     ...   \n",
              "Paul                Discord   \n",
              "DJ D00MSHYER        Discord   \n",
              "Melein Brueck       Discord   \n",
              "Alyx Aizawa         Discord   \n",
              "Francine Hanson   Duolinggo   \n",
              "\n",
              "                                                           Comment   Emotion  \n",
              "Name                                                                          \n",
              "Sheena More      im feeling very peaceful about our app again n...     Happy  \n",
              "aloneme                                            The app is gone       Sad  \n",
              "Levi Jack        So sleepy again and it's not even that late. I...       Sad  \n",
              "Jackelynn Bonds  mmm much better day... so far! it's still quit...     Happy  \n",
              "Anonymous        I want to buy this great album but unfortunate...       Sad  \n",
              "...                                                            ...       ...  \n",
              "Paul             Fix the video freeze issue! Your Android app i...     Angry  \n",
              "DJ D00MSHYER     The app was literally perfect before. Now its ...     Angry  \n",
              "Melein Brueck     I'm having issues every time I try to upload ...  Confused  \n",
              "Alyx Aizawa      as of late discord has been absolutely horrend...     Angry  \n",
              "Francine Hanson  I'm not a fan of the restructuring. I don't li...       Sad  \n",
              "\n",
              "[250 rows x 3 columns]>"
            ]
          },
          "execution_count": 3,
          "metadata": {},
          "output_type": "execute_result"
        }
      ],
      "source": [
        "#Loading datasets\n",
        "df = pd.read_csv(\"WARRIORSdataset - app reviews (1).csv\", index_col=0)\n",
        "df.head"
      ]
    },
    {
      "cell_type": "code",
      "execution_count": 4,
      "metadata": {
        "colab": {
          "base_uri": "https://localhost:8080/"
        },
        "id": "LUtck7oIxoVU",
        "outputId": "67dbf135-ac68-4acb-8ade-db14125f5229"
      },
      "outputs": [
        {
          "data": {
            "text/plain": [
              "Angry       104\n",
              "Happy        60\n",
              "Confused     52\n",
              "Sad          34\n",
              "Name: Emotion, dtype: int64"
            ]
          },
          "execution_count": 4,
          "metadata": {},
          "output_type": "execute_result"
        }
      ],
      "source": [
        "df['Emotion'].value_counts()"
      ]
    },
    {
      "cell_type": "code",
      "execution_count": 5,
      "metadata": {
        "colab": {
          "base_uri": "https://localhost:8080/"
        },
        "id": "tdHNcPDHxzRd",
        "outputId": "f1d280ae-0ec1-42e9-d874-ae936116e819"
      },
      "outputs": [
        {
          "data": {
            "text/plain": [
              "['BTC_ADDRESS_REGEX',\n",
              " 'CURRENCY_REGEX',\n",
              " 'CURRENCY_SYMB_REGEX',\n",
              " 'Counter',\n",
              " 'DATE_REGEX',\n",
              " 'EMAIL_REGEX',\n",
              " 'EMOJI_REGEX',\n",
              " 'HASTAG_REGEX',\n",
              " 'MASTERCard_REGEX',\n",
              " 'MD5_SHA_REGEX',\n",
              " 'MOST_COMMON_PUNCT_REGEX',\n",
              " 'NUMBERS_REGEX',\n",
              " 'PHONE_REGEX',\n",
              " 'PoBOX_REGEX',\n",
              " 'SPECIAL_CHARACTERS_REGEX',\n",
              " 'STOPWORDS',\n",
              " 'STOPWORDS_de',\n",
              " 'STOPWORDS_en',\n",
              " 'STOPWORDS_es',\n",
              " 'STOPWORDS_fr',\n",
              " 'STOPWORDS_ru',\n",
              " 'STOPWORDS_yo',\n",
              " 'STREET_ADDRESS_REGEX',\n",
              " 'TextFrame',\n",
              " 'URL_PATTERN',\n",
              " 'USER_HANDLES_REGEX',\n",
              " 'VISACard_REGEX',\n",
              " '__builtins__',\n",
              " '__cached__',\n",
              " '__doc__',\n",
              " '__file__',\n",
              " '__generate_text',\n",
              " '__loader__',\n",
              " '__name__',\n",
              " '__numbers_dict',\n",
              " '__package__',\n",
              " '__spec__',\n",
              " '_lex_richness_herdan',\n",
              " '_lex_richness_maas_ttr',\n",
              " 'clean_text',\n",
              " 'defaultdict',\n",
              " 'digit2words',\n",
              " 'extract_btc_address',\n",
              " 'extract_currencies',\n",
              " 'extract_currency_symbols',\n",
              " 'extract_dates',\n",
              " 'extract_emails',\n",
              " 'extract_emojis',\n",
              " 'extract_hashtags',\n",
              " 'extract_html_tags',\n",
              " 'extract_mastercard_addr',\n",
              " 'extract_md5sha',\n",
              " 'extract_numbers',\n",
              " 'extract_pattern',\n",
              " 'extract_phone_numbers',\n",
              " 'extract_postoffice_box',\n",
              " 'extract_shortwords',\n",
              " 'extract_special_characters',\n",
              " 'extract_stopwords',\n",
              " 'extract_street_address',\n",
              " 'extract_terms_in_bracket',\n",
              " 'extract_urls',\n",
              " 'extract_userhandles',\n",
              " 'extract_visacard_addr',\n",
              " 'fix_contractions',\n",
              " 'generate_sentence',\n",
              " 'hamming_distance',\n",
              " 'inverse_df',\n",
              " 'lexical_richness',\n",
              " 'markov_chain',\n",
              " 'math',\n",
              " 'nlargest',\n",
              " 'normalize',\n",
              " 'num2words',\n",
              " 'random',\n",
              " 're',\n",
              " 'read_txt',\n",
              " 'remove_accents',\n",
              " 'remove_bad_quotes',\n",
              " 'remove_btc_address',\n",
              " 'remove_currencies',\n",
              " 'remove_currency_symbols',\n",
              " 'remove_custom_pattern',\n",
              " 'remove_custom_words',\n",
              " 'remove_dates',\n",
              " 'remove_emails',\n",
              " 'remove_emojis',\n",
              " 'remove_hashtags',\n",
              " 'remove_html_tags',\n",
              " 'remove_mastercard_addr',\n",
              " 'remove_md5sha',\n",
              " 'remove_multiple_spaces',\n",
              " 'remove_non_ascii',\n",
              " 'remove_numbers',\n",
              " 'remove_phone_numbers',\n",
              " 'remove_postoffice_box',\n",
              " 'remove_puncts',\n",
              " 'remove_punctuations',\n",
              " 'remove_shortwords',\n",
              " 'remove_special_characters',\n",
              " 'remove_stopwords',\n",
              " 'remove_street_address',\n",
              " 'remove_terms_in_bracket',\n",
              " 'remove_urls',\n",
              " 'remove_userhandles',\n",
              " 'remove_visacard_addr',\n",
              " 'replace_bad_quotes',\n",
              " 'replace_currencies',\n",
              " 'replace_currency_symbols',\n",
              " 'replace_dates',\n",
              " 'replace_emails',\n",
              " 'replace_emojis',\n",
              " 'replace_numbers',\n",
              " 'replace_phone_numbers',\n",
              " 'replace_special_characters',\n",
              " 'replace_term',\n",
              " 'replace_urls',\n",
              " 'string',\n",
              " 'term_freq',\n",
              " 'to_txt',\n",
              " 'unicodedata',\n",
              " 'word_freq',\n",
              " 'word_length_freq']"
            ]
          },
          "execution_count": 5,
          "metadata": {},
          "output_type": "execute_result"
        }
      ],
      "source": [
        "#data cleaning\n",
        "dir(nfx)"
      ]
    },
    {
      "cell_type": "code",
      "execution_count": 6,
      "metadata": {
        "id": "KCaRFx_Jx6mF"
      },
      "outputs": [],
      "source": [
        "Cleancomment = df['Comment'].apply(nfx.remove_stopwords)"
      ]
    },
    {
      "cell_type": "code",
      "execution_count": 7,
      "metadata": {
        "id": "MKPrL4lfg0EA"
      },
      "outputs": [],
      "source": [
        "df['Cleancomment'] = df['Comment'].apply(nfx.remove_emojis)"
      ]
    },
    {
      "cell_type": "code",
      "execution_count": 8,
      "metadata": {
        "colab": {
          "base_uri": "https://localhost:8080/"
        },
        "id": "dPhH52HuetDi",
        "outputId": "87be2894-84b7-4862-e348-967440933937"
      },
      "outputs": [
        {
          "name": "stdout",
          "output_type": "stream",
          "text": [
            "Name\n",
            "Sheena More                                  im feeling peaceful app\n",
            "aloneme                                                     app gone\n",
            "Levi Jack                                   sleepy late. fail again.\n",
            "Jackelynn Bonds                        mmm better day... far! early.\n",
            "Anonymous             want buy great album unfortunately dont funds.\n",
            "                                         ...                        \n",
            "Paul               Fix video freeze issue! Android app suffering....\n",
            "DJ D00MSHYER       app literally perfect before. super buggy rece...\n",
            "Melein Brueck      I'm issues time try upload image. lags bad tak...\n",
            "Alyx Aizawa        late discord absolutely horrendous use. time p...\n",
            "Francine Hanson    I'm fan restructuring. like linear track. hopi...\n",
            "Name: Comment, Length: 250, dtype: object\n"
          ]
        }
      ],
      "source": [
        "print(Cleancomment)"
      ]
    },
    {
      "cell_type": "code",
      "execution_count": 9,
      "metadata": {
        "id": "-nSLtacWybKV"
      },
      "outputs": [],
      "source": [
        "#importing sklearn\n",
        "from sklearn.linear_model import LogisticRegression\n",
        "from sklearn.feature_extraction.text import CountVectorizer\n",
        "from sklearn.model_selection import train_test_split\n",
        "from sklearn.metrics import accuracy_score"
      ]
    },
    {
      "cell_type": "code",
      "execution_count": 10,
      "metadata": {
        "id": "t5D3kv-KyxZN"
      },
      "outputs": [],
      "source": [
        "Xfeatures = df['Cleancomment']\n",
        "ylabels = df['Emotion']"
      ]
    },
    {
      "cell_type": "code",
      "execution_count": 11,
      "metadata": {
        "id": "sDYfN6nzy-Cd"
      },
      "outputs": [],
      "source": [
        "#Data splitting\n",
        "from sklearn.pipeline import Pipeline #converts the raw text dataset into a matrix of numbers \n",
        "pipe_lr = Pipeline(steps=[('cv',CountVectorizer()),('lr',LogisticRegression())])"
      ]
    },
    {
      "cell_type": "code",
      "execution_count": 12,
      "metadata": {
        "colab": {
          "base_uri": "https://localhost:8080/",
          "height": 478
        },
        "id": "vPnfSxXY3qZP",
        "outputId": "15836c9e-5642-47e4-b630-537b55443dba"
      },
      "outputs": [
        {
          "name": "stderr",
          "output_type": "stream",
          "text": [
            "c:\\Users\\Arv.A\\AppData\\Local\\Programs\\Python\\Python310\\lib\\site-packages\\sklearn\\utils\\deprecation.py:87: FutureWarning: Function get_feature_names is deprecated; get_feature_names is deprecated in 1.0 and will be removed in 1.2. Please use get_feature_names_out instead.\n",
            "  warnings.warn(msg, category=FutureWarning)\n"
          ]
        },
        {
          "data": {
            "text/html": [
              "<div>\n",
              "<style scoped>\n",
              "    .dataframe tbody tr th:only-of-type {\n",
              "        vertical-align: middle;\n",
              "    }\n",
              "\n",
              "    .dataframe tbody tr th {\n",
              "        vertical-align: top;\n",
              "    }\n",
              "\n",
              "    .dataframe thead th {\n",
              "        text-align: right;\n",
              "    }\n",
              "</style>\n",
              "<table border=\"1\" class=\"dataframe\">\n",
              "  <thead>\n",
              "    <tr style=\"text-align: right;\">\n",
              "      <th></th>\n",
              "      <th>00</th>\n",
              "      <th>10</th>\n",
              "      <th>10k</th>\n",
              "      <th>10th</th>\n",
              "      <th>130</th>\n",
              "      <th>20</th>\n",
              "      <th>2022</th>\n",
              "      <th>20km</th>\n",
              "      <th>24</th>\n",
              "      <th>2day</th>\n",
              "      <th>...</th>\n",
              "      <th>worth</th>\n",
              "      <th>write</th>\n",
              "      <th>wrong</th>\n",
              "      <th>yay</th>\n",
              "      <th>year</th>\n",
              "      <th>years</th>\n",
              "      <th>yesterday</th>\n",
              "      <th>yet</th>\n",
              "      <th>you</th>\n",
              "      <th>yrs</th>\n",
              "    </tr>\n",
              "  </thead>\n",
              "  <tbody>\n",
              "    <tr>\n",
              "      <th>0</th>\n",
              "      <td>0</td>\n",
              "      <td>0</td>\n",
              "      <td>0</td>\n",
              "      <td>0</td>\n",
              "      <td>0</td>\n",
              "      <td>0</td>\n",
              "      <td>0</td>\n",
              "      <td>0</td>\n",
              "      <td>0</td>\n",
              "      <td>0</td>\n",
              "      <td>...</td>\n",
              "      <td>0</td>\n",
              "      <td>0</td>\n",
              "      <td>0</td>\n",
              "      <td>0</td>\n",
              "      <td>0</td>\n",
              "      <td>0</td>\n",
              "      <td>0</td>\n",
              "      <td>0</td>\n",
              "      <td>0</td>\n",
              "      <td>0</td>\n",
              "    </tr>\n",
              "    <tr>\n",
              "      <th>1</th>\n",
              "      <td>0</td>\n",
              "      <td>0</td>\n",
              "      <td>0</td>\n",
              "      <td>0</td>\n",
              "      <td>0</td>\n",
              "      <td>0</td>\n",
              "      <td>0</td>\n",
              "      <td>0</td>\n",
              "      <td>0</td>\n",
              "      <td>0</td>\n",
              "      <td>...</td>\n",
              "      <td>0</td>\n",
              "      <td>0</td>\n",
              "      <td>0</td>\n",
              "      <td>0</td>\n",
              "      <td>0</td>\n",
              "      <td>0</td>\n",
              "      <td>0</td>\n",
              "      <td>0</td>\n",
              "      <td>0</td>\n",
              "      <td>0</td>\n",
              "    </tr>\n",
              "    <tr>\n",
              "      <th>2</th>\n",
              "      <td>0</td>\n",
              "      <td>0</td>\n",
              "      <td>0</td>\n",
              "      <td>0</td>\n",
              "      <td>0</td>\n",
              "      <td>0</td>\n",
              "      <td>0</td>\n",
              "      <td>0</td>\n",
              "      <td>0</td>\n",
              "      <td>0</td>\n",
              "      <td>...</td>\n",
              "      <td>0</td>\n",
              "      <td>0</td>\n",
              "      <td>0</td>\n",
              "      <td>0</td>\n",
              "      <td>0</td>\n",
              "      <td>0</td>\n",
              "      <td>0</td>\n",
              "      <td>0</td>\n",
              "      <td>0</td>\n",
              "      <td>0</td>\n",
              "    </tr>\n",
              "    <tr>\n",
              "      <th>3</th>\n",
              "      <td>0</td>\n",
              "      <td>0</td>\n",
              "      <td>0</td>\n",
              "      <td>0</td>\n",
              "      <td>0</td>\n",
              "      <td>0</td>\n",
              "      <td>0</td>\n",
              "      <td>0</td>\n",
              "      <td>0</td>\n",
              "      <td>0</td>\n",
              "      <td>...</td>\n",
              "      <td>0</td>\n",
              "      <td>0</td>\n",
              "      <td>0</td>\n",
              "      <td>0</td>\n",
              "      <td>0</td>\n",
              "      <td>0</td>\n",
              "      <td>0</td>\n",
              "      <td>0</td>\n",
              "      <td>0</td>\n",
              "      <td>0</td>\n",
              "    </tr>\n",
              "    <tr>\n",
              "      <th>4</th>\n",
              "      <td>0</td>\n",
              "      <td>0</td>\n",
              "      <td>0</td>\n",
              "      <td>0</td>\n",
              "      <td>0</td>\n",
              "      <td>0</td>\n",
              "      <td>0</td>\n",
              "      <td>0</td>\n",
              "      <td>0</td>\n",
              "      <td>0</td>\n",
              "      <td>...</td>\n",
              "      <td>0</td>\n",
              "      <td>0</td>\n",
              "      <td>0</td>\n",
              "      <td>0</td>\n",
              "      <td>0</td>\n",
              "      <td>0</td>\n",
              "      <td>0</td>\n",
              "      <td>0</td>\n",
              "      <td>0</td>\n",
              "      <td>0</td>\n",
              "    </tr>\n",
              "    <tr>\n",
              "      <th>...</th>\n",
              "      <td>...</td>\n",
              "      <td>...</td>\n",
              "      <td>...</td>\n",
              "      <td>...</td>\n",
              "      <td>...</td>\n",
              "      <td>...</td>\n",
              "      <td>...</td>\n",
              "      <td>...</td>\n",
              "      <td>...</td>\n",
              "      <td>...</td>\n",
              "      <td>...</td>\n",
              "      <td>...</td>\n",
              "      <td>...</td>\n",
              "      <td>...</td>\n",
              "      <td>...</td>\n",
              "      <td>...</td>\n",
              "      <td>...</td>\n",
              "      <td>...</td>\n",
              "      <td>...</td>\n",
              "      <td>...</td>\n",
              "      <td>...</td>\n",
              "    </tr>\n",
              "    <tr>\n",
              "      <th>245</th>\n",
              "      <td>0</td>\n",
              "      <td>0</td>\n",
              "      <td>0</td>\n",
              "      <td>0</td>\n",
              "      <td>0</td>\n",
              "      <td>0</td>\n",
              "      <td>0</td>\n",
              "      <td>0</td>\n",
              "      <td>0</td>\n",
              "      <td>0</td>\n",
              "      <td>...</td>\n",
              "      <td>0</td>\n",
              "      <td>0</td>\n",
              "      <td>0</td>\n",
              "      <td>0</td>\n",
              "      <td>0</td>\n",
              "      <td>0</td>\n",
              "      <td>0</td>\n",
              "      <td>0</td>\n",
              "      <td>0</td>\n",
              "      <td>0</td>\n",
              "    </tr>\n",
              "    <tr>\n",
              "      <th>246</th>\n",
              "      <td>0</td>\n",
              "      <td>0</td>\n",
              "      <td>0</td>\n",
              "      <td>0</td>\n",
              "      <td>0</td>\n",
              "      <td>0</td>\n",
              "      <td>0</td>\n",
              "      <td>0</td>\n",
              "      <td>0</td>\n",
              "      <td>0</td>\n",
              "      <td>...</td>\n",
              "      <td>0</td>\n",
              "      <td>0</td>\n",
              "      <td>0</td>\n",
              "      <td>0</td>\n",
              "      <td>0</td>\n",
              "      <td>0</td>\n",
              "      <td>0</td>\n",
              "      <td>0</td>\n",
              "      <td>0</td>\n",
              "      <td>0</td>\n",
              "    </tr>\n",
              "    <tr>\n",
              "      <th>247</th>\n",
              "      <td>0</td>\n",
              "      <td>0</td>\n",
              "      <td>0</td>\n",
              "      <td>0</td>\n",
              "      <td>0</td>\n",
              "      <td>0</td>\n",
              "      <td>0</td>\n",
              "      <td>0</td>\n",
              "      <td>0</td>\n",
              "      <td>0</td>\n",
              "      <td>...</td>\n",
              "      <td>0</td>\n",
              "      <td>0</td>\n",
              "      <td>0</td>\n",
              "      <td>0</td>\n",
              "      <td>0</td>\n",
              "      <td>0</td>\n",
              "      <td>0</td>\n",
              "      <td>0</td>\n",
              "      <td>0</td>\n",
              "      <td>0</td>\n",
              "    </tr>\n",
              "    <tr>\n",
              "      <th>248</th>\n",
              "      <td>0</td>\n",
              "      <td>0</td>\n",
              "      <td>0</td>\n",
              "      <td>0</td>\n",
              "      <td>0</td>\n",
              "      <td>0</td>\n",
              "      <td>0</td>\n",
              "      <td>0</td>\n",
              "      <td>0</td>\n",
              "      <td>0</td>\n",
              "      <td>...</td>\n",
              "      <td>0</td>\n",
              "      <td>0</td>\n",
              "      <td>0</td>\n",
              "      <td>0</td>\n",
              "      <td>0</td>\n",
              "      <td>0</td>\n",
              "      <td>0</td>\n",
              "      <td>0</td>\n",
              "      <td>0</td>\n",
              "      <td>0</td>\n",
              "    </tr>\n",
              "    <tr>\n",
              "      <th>249</th>\n",
              "      <td>0</td>\n",
              "      <td>0</td>\n",
              "      <td>0</td>\n",
              "      <td>0</td>\n",
              "      <td>0</td>\n",
              "      <td>0</td>\n",
              "      <td>0</td>\n",
              "      <td>0</td>\n",
              "      <td>0</td>\n",
              "      <td>0</td>\n",
              "      <td>...</td>\n",
              "      <td>0</td>\n",
              "      <td>0</td>\n",
              "      <td>0</td>\n",
              "      <td>0</td>\n",
              "      <td>0</td>\n",
              "      <td>0</td>\n",
              "      <td>0</td>\n",
              "      <td>0</td>\n",
              "      <td>0</td>\n",
              "      <td>0</td>\n",
              "    </tr>\n",
              "  </tbody>\n",
              "</table>\n",
              "<p>250 rows × 1194 columns</p>\n",
              "</div>"
            ],
            "text/plain": [
              "     00  10  10k  10th  130  20  2022  20km  24  2day  ...  worth  write  \\\n",
              "0     0   0    0     0    0   0     0     0   0     0  ...      0      0   \n",
              "1     0   0    0     0    0   0     0     0   0     0  ...      0      0   \n",
              "2     0   0    0     0    0   0     0     0   0     0  ...      0      0   \n",
              "3     0   0    0     0    0   0     0     0   0     0  ...      0      0   \n",
              "4     0   0    0     0    0   0     0     0   0     0  ...      0      0   \n",
              "..   ..  ..  ...   ...  ...  ..   ...   ...  ..   ...  ...    ...    ...   \n",
              "245   0   0    0     0    0   0     0     0   0     0  ...      0      0   \n",
              "246   0   0    0     0    0   0     0     0   0     0  ...      0      0   \n",
              "247   0   0    0     0    0   0     0     0   0     0  ...      0      0   \n",
              "248   0   0    0     0    0   0     0     0   0     0  ...      0      0   \n",
              "249   0   0    0     0    0   0     0     0   0     0  ...      0      0   \n",
              "\n",
              "     wrong  yay  year  years  yesterday  yet  you  yrs  \n",
              "0        0    0     0      0          0    0    0    0  \n",
              "1        0    0     0      0          0    0    0    0  \n",
              "2        0    0     0      0          0    0    0    0  \n",
              "3        0    0     0      0          0    0    0    0  \n",
              "4        0    0     0      0          0    0    0    0  \n",
              "..     ...  ...   ...    ...        ...  ...  ...  ...  \n",
              "245      0    0     0      0          0    0    0    0  \n",
              "246      0    0     0      0          0    0    0    0  \n",
              "247      0    0     0      0          0    0    0    0  \n",
              "248      0    0     0      0          0    0    0    0  \n",
              "249      0    0     0      0          0    0    0    0  \n",
              "\n",
              "[250 rows x 1194 columns]"
            ]
          },
          "execution_count": 12,
          "metadata": {},
          "output_type": "execute_result"
        }
      ],
      "source": [
        "vectorizer = CountVectorizer()\n",
        "cdf = vectorizer.fit_transform(Cleancomment)\n",
        "bow = pd.DataFrame(cdf.toarray(), columns = vectorizer.get_feature_names())\n",
        "bow"
      ]
    },
    {
      "cell_type": "code",
      "execution_count": 14,
      "metadata": {
        "colab": {
          "base_uri": "https://localhost:8080/"
        },
        "id": "TTOFkXuY1M30",
        "outputId": "81ba22c7-1d7a-4e4e-d6d5-c5204f2a4402"
      },
      "outputs": [
        {
          "data": {
            "text/plain": [
              "Name\n",
              "Sheena More        im feeling very peaceful about our app again n...\n",
              "aloneme                                              The app is gone\n",
              "Levi Jack          So sleepy again and it's not even that late. I...\n",
              "Jackelynn Bonds    mmm much better day... so far! it's still quit...\n",
              "Anonymous          I want to buy this great album but unfortunate...\n",
              "                                         ...                        \n",
              "Paul               Fix the video freeze issue! Your Android app i...\n",
              "DJ D00MSHYER       The app was literally perfect before. Now its ...\n",
              "Melein Brueck       I'm having issues every time I try to upload ...\n",
              "Alyx Aizawa        as of late discord has been absolutely horrend...\n",
              "Francine Hanson    I'm not a fan of the restructuring. I don't li...\n",
              "Name: Cleancomment, Length: 250, dtype: object"
            ]
          },
          "execution_count": 14,
          "metadata": {},
          "output_type": "execute_result"
        }
      ],
      "source": [
        "#Training and testing\n",
        "X = df['Cleancomment']\n",
        "y = df['Emotion']\n",
        "X_train, X_test, y_train, y_test = train_test_split( X, y, test_size=0.4, random_state=0)\n",
        "X"
      ]
    },
    {
      "cell_type": "code",
      "execution_count": 15,
      "metadata": {
        "colab": {
          "base_uri": "https://localhost:8080/"
        },
        "id": "W6nLpY2Nz_aO",
        "outputId": "71a22b40-f939-4691-9a27-6b6b2644f317"
      },
      "outputs": [
        {
          "data": {
            "text/html": [
              "<style>#sk-container-id-1 {color: black;background-color: white;}#sk-container-id-1 pre{padding: 0;}#sk-container-id-1 div.sk-toggleable {background-color: white;}#sk-container-id-1 label.sk-toggleable__label {cursor: pointer;display: block;width: 100%;margin-bottom: 0;padding: 0.3em;box-sizing: border-box;text-align: center;}#sk-container-id-1 label.sk-toggleable__label-arrow:before {content: \"▸\";float: left;margin-right: 0.25em;color: #696969;}#sk-container-id-1 label.sk-toggleable__label-arrow:hover:before {color: black;}#sk-container-id-1 div.sk-estimator:hover label.sk-toggleable__label-arrow:before {color: black;}#sk-container-id-1 div.sk-toggleable__content {max-height: 0;max-width: 0;overflow: hidden;text-align: left;background-color: #f0f8ff;}#sk-container-id-1 div.sk-toggleable__content pre {margin: 0.2em;color: black;border-radius: 0.25em;background-color: #f0f8ff;}#sk-container-id-1 input.sk-toggleable__control:checked~div.sk-toggleable__content {max-height: 200px;max-width: 100%;overflow: auto;}#sk-container-id-1 input.sk-toggleable__control:checked~label.sk-toggleable__label-arrow:before {content: \"▾\";}#sk-container-id-1 div.sk-estimator input.sk-toggleable__control:checked~label.sk-toggleable__label {background-color: #d4ebff;}#sk-container-id-1 div.sk-label input.sk-toggleable__control:checked~label.sk-toggleable__label {background-color: #d4ebff;}#sk-container-id-1 input.sk-hidden--visually {border: 0;clip: rect(1px 1px 1px 1px);clip: rect(1px, 1px, 1px, 1px);height: 1px;margin: -1px;overflow: hidden;padding: 0;position: absolute;width: 1px;}#sk-container-id-1 div.sk-estimator {font-family: monospace;background-color: #f0f8ff;border: 1px dotted black;border-radius: 0.25em;box-sizing: border-box;margin-bottom: 0.5em;}#sk-container-id-1 div.sk-estimator:hover {background-color: #d4ebff;}#sk-container-id-1 div.sk-parallel-item::after {content: \"\";width: 100%;border-bottom: 1px solid gray;flex-grow: 1;}#sk-container-id-1 div.sk-label:hover label.sk-toggleable__label {background-color: #d4ebff;}#sk-container-id-1 div.sk-serial::before {content: \"\";position: absolute;border-left: 1px solid gray;box-sizing: border-box;top: 0;bottom: 0;left: 50%;z-index: 0;}#sk-container-id-1 div.sk-serial {display: flex;flex-direction: column;align-items: center;background-color: white;padding-right: 0.2em;padding-left: 0.2em;position: relative;}#sk-container-id-1 div.sk-item {position: relative;z-index: 1;}#sk-container-id-1 div.sk-parallel {display: flex;align-items: stretch;justify-content: center;background-color: white;position: relative;}#sk-container-id-1 div.sk-item::before, #sk-container-id-1 div.sk-parallel-item::before {content: \"\";position: absolute;border-left: 1px solid gray;box-sizing: border-box;top: 0;bottom: 0;left: 50%;z-index: -1;}#sk-container-id-1 div.sk-parallel-item {display: flex;flex-direction: column;z-index: 1;position: relative;background-color: white;}#sk-container-id-1 div.sk-parallel-item:first-child::after {align-self: flex-end;width: 50%;}#sk-container-id-1 div.sk-parallel-item:last-child::after {align-self: flex-start;width: 50%;}#sk-container-id-1 div.sk-parallel-item:only-child::after {width: 0;}#sk-container-id-1 div.sk-dashed-wrapped {border: 1px dashed gray;margin: 0 0.4em 0.5em 0.4em;box-sizing: border-box;padding-bottom: 0.4em;background-color: white;}#sk-container-id-1 div.sk-label label {font-family: monospace;font-weight: bold;display: inline-block;line-height: 1.2em;}#sk-container-id-1 div.sk-label-container {text-align: center;}#sk-container-id-1 div.sk-container {/* jupyter's `normalize.less` sets `[hidden] { display: none; }` but bootstrap.min.css set `[hidden] { display: none !important; }` so we also need the `!important` here to be able to override the default hidden behavior on the sphinx rendered scikit-learn.org. See: https://github.com/scikit-learn/scikit-learn/issues/21755 */display: inline-block !important;position: relative;}#sk-container-id-1 div.sk-text-repr-fallback {display: none;}</style><div id=\"sk-container-id-1\" class=\"sk-top-container\"><div class=\"sk-text-repr-fallback\"><pre>Pipeline(steps=[(&#x27;cv&#x27;, CountVectorizer()), (&#x27;lr&#x27;, LogisticRegression())])</pre><b>In a Jupyter environment, please rerun this cell to show the HTML representation or trust the notebook. <br />On GitHub, the HTML representation is unable to render, please try loading this page with nbviewer.org.</b></div><div class=\"sk-container\" hidden><div class=\"sk-item sk-dashed-wrapped\"><div class=\"sk-label-container\"><div class=\"sk-label sk-toggleable\"><input class=\"sk-toggleable__control sk-hidden--visually\" id=\"sk-estimator-id-1\" type=\"checkbox\" ><label for=\"sk-estimator-id-1\" class=\"sk-toggleable__label sk-toggleable__label-arrow\">Pipeline</label><div class=\"sk-toggleable__content\"><pre>Pipeline(steps=[(&#x27;cv&#x27;, CountVectorizer()), (&#x27;lr&#x27;, LogisticRegression())])</pre></div></div></div><div class=\"sk-serial\"><div class=\"sk-item\"><div class=\"sk-estimator sk-toggleable\"><input class=\"sk-toggleable__control sk-hidden--visually\" id=\"sk-estimator-id-2\" type=\"checkbox\" ><label for=\"sk-estimator-id-2\" class=\"sk-toggleable__label sk-toggleable__label-arrow\">CountVectorizer</label><div class=\"sk-toggleable__content\"><pre>CountVectorizer()</pre></div></div></div><div class=\"sk-item\"><div class=\"sk-estimator sk-toggleable\"><input class=\"sk-toggleable__control sk-hidden--visually\" id=\"sk-estimator-id-3\" type=\"checkbox\" ><label for=\"sk-estimator-id-3\" class=\"sk-toggleable__label sk-toggleable__label-arrow\">LogisticRegression</label><div class=\"sk-toggleable__content\"><pre>LogisticRegression()</pre></div></div></div></div></div></div></div>"
            ],
            "text/plain": [
              "Pipeline(steps=[('cv', CountVectorizer()), ('lr', LogisticRegression())])"
            ]
          },
          "execution_count": 15,
          "metadata": {},
          "output_type": "execute_result"
        }
      ],
      "source": [
        "#fitting\n",
        "pipe_lr.fit(X_train,y_train)"
      ]
    },
    {
      "cell_type": "code",
      "execution_count": 16,
      "metadata": {
        "colab": {
          "base_uri": "https://localhost:8080/"
        },
        "id": "6LCrRPSO1j-2",
        "outputId": "0ab54b75-1309-455f-b326-0cb57c0becc5"
      },
      "outputs": [
        {
          "data": {
            "text/plain": [
              "56.00000000000001"
            ]
          },
          "execution_count": 16,
          "metadata": {},
          "output_type": "execute_result"
        }
      ],
      "source": [
        "#Accuracy score\n",
        "pipe_lr.score(X_test,y_test) *100"
      ]
    },
    {
      "cell_type": "code",
      "execution_count": null,
      "metadata": {
        "id": "xenDwMaZ13r1"
      },
      "outputs": [],
      "source": [
        "#Sample Prediction\n",
        "sample = input('Enter a comment: ')\n",
        "pipe_lr.predict([sample])"
      ]
    },
    {
      "cell_type": "code",
      "execution_count": null,
      "metadata": {
        "id": "WQJNyoFu19Nd"
      },
      "outputs": [],
      "source": [
        "#Sample Prediction\n",
        "sample = input('Enter a comment: ')\n",
        "pipe_lr.predict([sample])"
      ]
    },
    {
      "cell_type": "code",
      "execution_count": null,
      "metadata": {
        "id": "EpHSQRp_2wNK"
      },
      "outputs": [],
      "source": [
        "#Sample Prediction\n",
        "sample = input('Enter a comment: ')\n",
        "pipe_lr.predict([sample])"
      ]
    },
    {
      "cell_type": "code",
      "execution_count": null,
      "metadata": {
        "id": "H2Avqyji27IW"
      },
      "outputs": [],
      "source": [
        "#Sample Prediction\n",
        "sample = input('Enter a comment: ')\n",
        "pipe_lr.predict([sample])"
      ]
    },
    {
      "cell_type": "code",
      "execution_count": 17,
      "metadata": {
        "id": "HB2-PtTGY4xs"
      },
      "outputs": [],
      "source": [
        "import tkinter as tk\n",
        "root = tk.Tk()\n",
        "bg_image = tk.PhotoImage(file=\"testwar.png\")\n",
        "bg_label = tk.Label(root, image=bg_image)\n",
        "bg_label.pack()\n",
        "\n",
        "label = tk.Label(root, text=\"Enter a comment:\")\n",
        "input_field = tk.Entry(root)\n",
        "\n",
        "#textbox for prediction\n",
        "output_field = tk.Text(root)\n",
        "\n",
        "#function for button/ prediction\n",
        "def make_prediction():\n",
        "    sample = input_field.get()\n",
        "    #prediction\n",
        "    prediction = pipe_lr.predict([sample])\n",
        "    output_field.delete(1.0, tk.END)\n",
        "    output_field.insert(tk.END, f\"Prediction: {prediction}\")\n",
        "\n",
        "#button for prediction\n",
        "predict_button = tk.Button(root, text=\"Predict\", command=make_prediction)\n",
        "label.pack()\n",
        "input_field.pack()\n",
        "predict_button.pack()\n",
        "output_field.pack()\n",
        "\n",
        "#loop\n",
        "root.mainloop()\n"
      ]
    }
  ],
  "metadata": {
    "colab": {
      "provenance": []
    },
    "kernelspec": {
      "display_name": "Python 3.10.6 64-bit",
      "language": "python",
      "name": "python3"
    },
    "language_info": {
      "codemirror_mode": {
        "name": "ipython",
        "version": 3
      },
      "file_extension": ".py",
      "mimetype": "text/x-python",
      "name": "python",
      "nbconvert_exporter": "python",
      "pygments_lexer": "ipython3",
      "version": "3.10.6"
    },
    "vscode": {
      "interpreter": {
        "hash": "e8e0ce9e4e674a46468dd464b2f5f3d27a12a0e7fdcb9a596e887e896c7a5117"
      }
    }
  },
  "nbformat": 4,
  "nbformat_minor": 0
}
